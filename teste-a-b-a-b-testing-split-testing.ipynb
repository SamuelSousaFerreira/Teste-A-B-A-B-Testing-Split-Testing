{
 "cells": [
  {
   "cell_type": "markdown",
   "metadata": {
    "papermill": {
     "duration": 0.021981,
     "end_time": "2021-03-17T18:28:14.501042",
     "exception": false,
     "start_time": "2021-03-17T18:28:14.479061",
     "status": "completed"
    },
    "tags": []
   },
   "source": [
    "# Teste A|B, A|B Testing, Split Testing\n",
    "Teste A|B é um teste  que divide o acesso a uma página online ou produto em duas versões diferentes, A(controle) e B(experimento), e depois mede-se a taxa de conversão que podem ser  vendas, clicks, preferência, compartilhamentos entre outras. As diferenças nas páginas/produtos podem ser em cores, botões, chamadas para ação ou serem totalmente diferentes mas com o mesmo objetivo final. No mundo offline é usado na indústria para lançamento de versões produtos para avaliar cores, tamanho e forma.\n",
    "\n",
    "Suas aplicações são comuns em e-commerce e anúncios como Google Ads, Redes Sociais, email marketing e landing pages. Mesmo com aparência simples não é fácil encontrar variáveis relevantes estatísticamente para o experimento, isto é, é necessário grande quantidade de dados e tempo para rodar o teste. Este artigo detalha melhor o uso dos Testes A|B:[O que é Teste A|B](https://resultadosdigitais.com.br/blog/o-que-e-teste-ab/). \n",
    "\n",
    "O Teste A|B deve ser cuidadosamente projetado para obter resultados conclusivos e evitar enviesamento como descrito no artigo em inglês [7 A/B Testing Questions and Answers in Data Science Interviews](http://https://towardsdatascience.com/7-a-b-testing-questions-and-answers-in-data-science-interviews-eee6428a8b63).Esse material faz um apanhado da teoria do Teste A|B como questões de entrevista de emprego.\n",
    "\n",
    "\n",
    "Também indico o podcast hipsters tech com o time da NetShoes e o material da página. Você pode acessar [aqui.](https://hipsters.tech/testes-ab-hipsters-59/).\n",
    "\n",
    "[Experiments at Airbnb](https://medium.com/airbnb-engineering/experiments-at-airbnb-e2db3abf39e7) - Um case do Airbnb que mostra as armadilhas do Teste A|B e como evitar."
   ]
  },
  {
   "cell_type": "code",
   "execution_count": 1,
   "metadata": {
    "execution": {
     "iopub.execute_input": "2021-03-17T18:28:14.548757Z",
     "iopub.status.busy": "2021-03-17T18:28:14.547932Z",
     "iopub.status.idle": "2021-03-17T18:28:15.582549Z",
     "shell.execute_reply": "2021-03-17T18:28:15.581647Z"
    },
    "papermill": {
     "duration": 1.060999,
     "end_time": "2021-03-17T18:28:15.582768",
     "exception": false,
     "start_time": "2021-03-17T18:28:14.521769",
     "status": "completed"
    },
    "tags": []
   },
   "outputs": [],
   "source": [
    "import pandas as pd \n",
    "import numpy as np\n",
    "import matplotlib.pyplot as plt\n",
    "import seaborn as sns\n",
    "import scipy "
   ]
  },
  {
   "cell_type": "markdown",
   "metadata": {
    "papermill": {
     "duration": 0.020839,
     "end_time": "2021-03-17T18:28:15.624780",
     "exception": false,
     "start_time": "2021-03-17T18:28:15.603941",
     "status": "completed"
    },
    "tags": []
   },
   "source": [
    "# Explorando e conhecendo os dados"
   ]
  },
  {
   "cell_type": "code",
   "execution_count": 2,
   "metadata": {
    "execution": {
     "iopub.execute_input": "2021-03-17T18:28:15.671870Z",
     "iopub.status.busy": "2021-03-17T18:28:15.671052Z",
     "iopub.status.idle": "2021-03-17T18:28:16.273413Z",
     "shell.execute_reply": "2021-03-17T18:28:16.273879Z"
    },
    "papermill": {
     "duration": 0.628436,
     "end_time": "2021-03-17T18:28:16.274176",
     "exception": false,
     "start_time": "2021-03-17T18:28:15.645740",
     "status": "completed"
    },
    "tags": []
   },
   "outputs": [
    {
     "data": {
      "text/html": [
       "<div>\n",
       "<style scoped>\n",
       "    .dataframe tbody tr th:only-of-type {\n",
       "        vertical-align: middle;\n",
       "    }\n",
       "\n",
       "    .dataframe tbody tr th {\n",
       "        vertical-align: top;\n",
       "    }\n",
       "\n",
       "    .dataframe thead th {\n",
       "        text-align: right;\n",
       "    }\n",
       "</style>\n",
       "<table border=\"1\" class=\"dataframe\">\n",
       "  <thead>\n",
       "    <tr style=\"text-align: right;\">\n",
       "      <th></th>\n",
       "      <th>user_id</th>\n",
       "      <th>timestamp</th>\n",
       "      <th>group</th>\n",
       "      <th>landing_page</th>\n",
       "      <th>converted</th>\n",
       "    </tr>\n",
       "  </thead>\n",
       "  <tbody>\n",
       "    <tr>\n",
       "      <th>0</th>\n",
       "      <td>851104</td>\n",
       "      <td>2017-01-21 22:11:48.556739</td>\n",
       "      <td>control</td>\n",
       "      <td>old_page</td>\n",
       "      <td>0</td>\n",
       "    </tr>\n",
       "    <tr>\n",
       "      <th>1</th>\n",
       "      <td>804228</td>\n",
       "      <td>2017-01-12 08:01:45.159739</td>\n",
       "      <td>control</td>\n",
       "      <td>old_page</td>\n",
       "      <td>0</td>\n",
       "    </tr>\n",
       "    <tr>\n",
       "      <th>2</th>\n",
       "      <td>661590</td>\n",
       "      <td>2017-01-11 16:55:06.154213</td>\n",
       "      <td>treatment</td>\n",
       "      <td>new_page</td>\n",
       "      <td>0</td>\n",
       "    </tr>\n",
       "    <tr>\n",
       "      <th>3</th>\n",
       "      <td>853541</td>\n",
       "      <td>2017-01-08 18:28:03.143765</td>\n",
       "      <td>treatment</td>\n",
       "      <td>new_page</td>\n",
       "      <td>0</td>\n",
       "    </tr>\n",
       "    <tr>\n",
       "      <th>4</th>\n",
       "      <td>864975</td>\n",
       "      <td>2017-01-21 01:52:26.210827</td>\n",
       "      <td>control</td>\n",
       "      <td>old_page</td>\n",
       "      <td>1</td>\n",
       "    </tr>\n",
       "  </tbody>\n",
       "</table>\n",
       "</div>"
      ],
      "text/plain": [
       "   user_id                   timestamp      group landing_page  converted\n",
       "0   851104  2017-01-21 22:11:48.556739    control     old_page          0\n",
       "1   804228  2017-01-12 08:01:45.159739    control     old_page          0\n",
       "2   661590  2017-01-11 16:55:06.154213  treatment     new_page          0\n",
       "3   853541  2017-01-08 18:28:03.143765  treatment     new_page          0\n",
       "4   864975  2017-01-21 01:52:26.210827    control     old_page          1"
      ]
     },
     "execution_count": 2,
     "metadata": {},
     "output_type": "execute_result"
    }
   ],
   "source": [
    "dados = pd.read_csv('../input/ab-testing/ab_data.csv')\n",
    "dados.head()"
   ]
  },
  {
   "cell_type": "code",
   "execution_count": 3,
   "metadata": {
    "execution": {
     "iopub.execute_input": "2021-03-17T18:28:16.326854Z",
     "iopub.status.busy": "2021-03-17T18:28:16.324576Z",
     "iopub.status.idle": "2021-03-17T18:28:16.331695Z",
     "shell.execute_reply": "2021-03-17T18:28:16.332187Z"
    },
    "papermill": {
     "duration": 0.036481,
     "end_time": "2021-03-17T18:28:16.332368",
     "exception": false,
     "start_time": "2021-03-17T18:28:16.295887",
     "status": "completed"
    },
    "tags": []
   },
   "outputs": [
    {
     "data": {
      "text/plain": [
       "(294478, 5)"
      ]
     },
     "execution_count": 3,
     "metadata": {},
     "output_type": "execute_result"
    }
   ],
   "source": [
    "dados.shape"
   ]
  },
  {
   "cell_type": "code",
   "execution_count": 4,
   "metadata": {
    "execution": {
     "iopub.execute_input": "2021-03-17T18:28:16.472228Z",
     "iopub.status.busy": "2021-03-17T18:28:16.383061Z",
     "iopub.status.idle": "2021-03-17T18:28:16.491437Z",
     "shell.execute_reply": "2021-03-17T18:28:16.492296Z"
    },
    "papermill": {
     "duration": 0.136484,
     "end_time": "2021-03-17T18:28:16.492533",
     "exception": false,
     "start_time": "2021-03-17T18:28:16.356049",
     "status": "completed"
    },
    "tags": []
   },
   "outputs": [
    {
     "name": "stdout",
     "output_type": "stream",
     "text": [
      "<class 'pandas.core.frame.DataFrame'>\n",
      "RangeIndex: 294478 entries, 0 to 294477\n",
      "Data columns (total 5 columns):\n",
      " #   Column        Non-Null Count   Dtype \n",
      "---  ------        --------------   ----- \n",
      " 0   user_id       294478 non-null  int64 \n",
      " 1   timestamp     294478 non-null  object\n",
      " 2   group         294478 non-null  object\n",
      " 3   landing_page  294478 non-null  object\n",
      " 4   converted     294478 non-null  int64 \n",
      "dtypes: int64(2), object(3)\n",
      "memory usage: 11.2+ MB\n"
     ]
    }
   ],
   "source": [
    "dados.info()"
   ]
  },
  {
   "cell_type": "markdown",
   "metadata": {
    "papermill": {
     "duration": 0.021881,
     "end_time": "2021-03-17T18:28:16.537253",
     "exception": false,
     "start_time": "2021-03-17T18:28:16.515372",
     "status": "completed"
    },
    "tags": []
   },
   "source": [
    "O dataset possui 5 colunas e 294478 linhas.\n",
    "Nenhum valor nulo. \n",
    "A variável Id é numérica, mas é só de identificação e precisa ser verificada se há valores repetidos.\n",
    "A variável converted é binária e significa se o usuário realizou a ação (1) ou não (0).\n",
    "O teste é realizado ecom 2 grupos: control e treatment em duas páginas(landing-page)- a nova e a antiga."
   ]
  },
  {
   "cell_type": "markdown",
   "metadata": {
    "papermill": {
     "duration": 0.02171,
     "end_time": "2021-03-17T18:28:16.581245",
     "exception": false,
     "start_time": "2021-03-17T18:28:16.559535",
     "status": "completed"
    },
    "tags": []
   },
   "source": [
    "## Tratamento dos dados\n",
    "\n",
    " \n",
    " \n"
   ]
  },
  {
   "cell_type": "markdown",
   "metadata": {
    "papermill": {
     "duration": 0.022256,
     "end_time": "2021-03-17T18:28:16.625610",
     "exception": false,
     "start_time": "2021-03-17T18:28:16.603354",
     "status": "completed"
    },
    "tags": []
   },
   "source": [
    "## 1 - Verificando se usuários do grupo de controle viram a nova página e vice versa\n",
    "\n",
    "No Teste A|B é importante a independência e não interferência entre os grupos, por isso, removeremos os dados dos usuários do grupo de controle que entraram na nova página e vice-versa."
   ]
  },
  {
   "cell_type": "code",
   "execution_count": 5,
   "metadata": {
    "execution": {
     "iopub.execute_input": "2021-03-17T18:28:16.679586Z",
     "iopub.status.busy": "2021-03-17T18:28:16.678902Z",
     "iopub.status.idle": "2021-03-17T18:28:16.795913Z",
     "shell.execute_reply": "2021-03-17T18:28:16.795268Z"
    },
    "papermill": {
     "duration": 0.148176,
     "end_time": "2021-03-17T18:28:16.796099",
     "exception": false,
     "start_time": "2021-03-17T18:28:16.647923",
     "status": "completed"
    },
    "tags": []
   },
   "outputs": [
    {
     "data": {
      "text/html": [
       "<div>\n",
       "<style scoped>\n",
       "    .dataframe tbody tr th:only-of-type {\n",
       "        vertical-align: middle;\n",
       "    }\n",
       "\n",
       "    .dataframe tbody tr th {\n",
       "        vertical-align: top;\n",
       "    }\n",
       "\n",
       "    .dataframe thead th {\n",
       "        text-align: right;\n",
       "    }\n",
       "</style>\n",
       "<table border=\"1\" class=\"dataframe\">\n",
       "  <thead>\n",
       "    <tr style=\"text-align: right;\">\n",
       "      <th></th>\n",
       "      <th></th>\n",
       "      <th>user_id</th>\n",
       "      <th>timestamp</th>\n",
       "      <th>converted</th>\n",
       "    </tr>\n",
       "    <tr>\n",
       "      <th>group</th>\n",
       "      <th>landing_page</th>\n",
       "      <th></th>\n",
       "      <th></th>\n",
       "      <th></th>\n",
       "    </tr>\n",
       "  </thead>\n",
       "  <tbody>\n",
       "    <tr>\n",
       "      <th rowspan=\"2\" valign=\"top\">control</th>\n",
       "      <th>new_page</th>\n",
       "      <td>1928</td>\n",
       "      <td>1928</td>\n",
       "      <td>1928</td>\n",
       "    </tr>\n",
       "    <tr>\n",
       "      <th>old_page</th>\n",
       "      <td>145274</td>\n",
       "      <td>145274</td>\n",
       "      <td>145274</td>\n",
       "    </tr>\n",
       "    <tr>\n",
       "      <th rowspan=\"2\" valign=\"top\">treatment</th>\n",
       "      <th>new_page</th>\n",
       "      <td>145311</td>\n",
       "      <td>145311</td>\n",
       "      <td>145311</td>\n",
       "    </tr>\n",
       "    <tr>\n",
       "      <th>old_page</th>\n",
       "      <td>1965</td>\n",
       "      <td>1965</td>\n",
       "      <td>1965</td>\n",
       "    </tr>\n",
       "  </tbody>\n",
       "</table>\n",
       "</div>"
      ],
      "text/plain": [
       "                        user_id  timestamp  converted\n",
       "group     landing_page                               \n",
       "control   new_page         1928       1928       1928\n",
       "          old_page       145274     145274     145274\n",
       "treatment new_page       145311     145311     145311\n",
       "          old_page         1965       1965       1965"
      ]
     },
     "execution_count": 5,
     "metadata": {},
     "output_type": "execute_result"
    }
   ],
   "source": [
    "#separando os usuários de cada grupo que viu cada página.\n",
    "dados.groupby(['group', 'landing_page']).count()"
   ]
  },
  {
   "cell_type": "code",
   "execution_count": 6,
   "metadata": {
    "execution": {
     "iopub.execute_input": "2021-03-17T18:28:17.068833Z",
     "iopub.status.busy": "2021-03-17T18:28:16.956009Z",
     "iopub.status.idle": "2021-03-17T18:28:17.096511Z",
     "shell.execute_reply": "2021-03-17T18:28:17.095582Z"
    },
    "papermill": {
     "duration": 0.277351,
     "end_time": "2021-03-17T18:28:17.096713",
     "exception": false,
     "start_time": "2021-03-17T18:28:16.819362",
     "status": "completed"
    },
    "tags": []
   },
   "outputs": [],
   "source": [
    "#Filtrando somente os usuários que estão de acordo para nossa análise\n",
    "dados_1 = dados.loc[(dados.group == 'control') & (dados.landing_page == 'old_page')\n",
    "                   | (dados.group == 'treatment') & (dados.landing_page == 'new_page')]"
   ]
  },
  {
   "cell_type": "code",
   "execution_count": 7,
   "metadata": {
    "execution": {
     "iopub.execute_input": "2021-03-17T18:28:17.172753Z",
     "iopub.status.busy": "2021-03-17T18:28:17.171653Z",
     "iopub.status.idle": "2021-03-17T18:28:17.309392Z",
     "shell.execute_reply": "2021-03-17T18:28:17.308762Z"
    },
    "papermill": {
     "duration": 0.176592,
     "end_time": "2021-03-17T18:28:17.309539",
     "exception": false,
     "start_time": "2021-03-17T18:28:17.132947",
     "status": "completed"
    },
    "tags": []
   },
   "outputs": [
    {
     "data": {
      "text/html": [
       "<div>\n",
       "<style scoped>\n",
       "    .dataframe tbody tr th:only-of-type {\n",
       "        vertical-align: middle;\n",
       "    }\n",
       "\n",
       "    .dataframe tbody tr th {\n",
       "        vertical-align: top;\n",
       "    }\n",
       "\n",
       "    .dataframe thead th {\n",
       "        text-align: right;\n",
       "    }\n",
       "</style>\n",
       "<table border=\"1\" class=\"dataframe\">\n",
       "  <thead>\n",
       "    <tr style=\"text-align: right;\">\n",
       "      <th></th>\n",
       "      <th></th>\n",
       "      <th>user_id</th>\n",
       "      <th>timestamp</th>\n",
       "      <th>converted</th>\n",
       "    </tr>\n",
       "    <tr>\n",
       "      <th>group</th>\n",
       "      <th>landing_page</th>\n",
       "      <th></th>\n",
       "      <th></th>\n",
       "      <th></th>\n",
       "    </tr>\n",
       "  </thead>\n",
       "  <tbody>\n",
       "    <tr>\n",
       "      <th>control</th>\n",
       "      <th>old_page</th>\n",
       "      <td>145274</td>\n",
       "      <td>145274</td>\n",
       "      <td>145274</td>\n",
       "    </tr>\n",
       "    <tr>\n",
       "      <th>treatment</th>\n",
       "      <th>new_page</th>\n",
       "      <td>145311</td>\n",
       "      <td>145311</td>\n",
       "      <td>145311</td>\n",
       "    </tr>\n",
       "  </tbody>\n",
       "</table>\n",
       "</div>"
      ],
      "text/plain": [
       "                        user_id  timestamp  converted\n",
       "group     landing_page                               \n",
       "control   old_page       145274     145274     145274\n",
       "treatment new_page       145311     145311     145311"
      ]
     },
     "execution_count": 7,
     "metadata": {},
     "output_type": "execute_result"
    }
   ],
   "source": [
    "#verificando \n",
    "dados_1.groupby(['group','landing_page']).count()"
   ]
  },
  {
   "cell_type": "markdown",
   "metadata": {
    "papermill": {
     "duration": 0.028589,
     "end_time": "2021-03-17T18:28:17.376426",
     "exception": false,
     "start_time": "2021-03-17T18:28:17.347837",
     "status": "completed"
    },
    "tags": []
   },
   "source": [
    "## 2 - Dados repetidos\n",
    "Verificaremos de há usuários repetidos pelo Id."
   ]
  },
  {
   "cell_type": "code",
   "execution_count": 8,
   "metadata": {
    "execution": {
     "iopub.execute_input": "2021-03-17T18:28:17.430996Z",
     "iopub.status.busy": "2021-03-17T18:28:17.430269Z",
     "iopub.status.idle": "2021-03-17T18:28:17.454833Z",
     "shell.execute_reply": "2021-03-17T18:28:17.454270Z"
    },
    "papermill": {
     "duration": 0.054022,
     "end_time": "2021-03-17T18:28:17.455017",
     "exception": false,
     "start_time": "2021-03-17T18:28:17.400995",
     "status": "completed"
    },
    "tags": []
   },
   "outputs": [
    {
     "data": {
      "text/plain": [
       "False"
      ]
     },
     "execution_count": 8,
     "metadata": {},
     "output_type": "execute_result"
    }
   ],
   "source": [
    "dados_1.shape[0] == dados_1.user_id.nunique()  #False indica que há valores repetidos. Quantos?"
   ]
  },
  {
   "cell_type": "code",
   "execution_count": 9,
   "metadata": {
    "execution": {
     "iopub.execute_input": "2021-03-17T18:28:17.508122Z",
     "iopub.status.busy": "2021-03-17T18:28:17.507183Z",
     "iopub.status.idle": "2021-03-17T18:28:17.527686Z",
     "shell.execute_reply": "2021-03-17T18:28:17.528238Z"
    },
    "papermill": {
     "duration": 0.0486,
     "end_time": "2021-03-17T18:28:17.528412",
     "exception": false,
     "start_time": "2021-03-17T18:28:17.479812",
     "status": "completed"
    },
    "tags": []
   },
   "outputs": [
    {
     "data": {
      "text/plain": [
       "1"
      ]
     },
     "execution_count": 9,
     "metadata": {},
     "output_type": "execute_result"
    }
   ],
   "source": [
    "dados_1.shape[0] - dados_1.user_id.nunique()\n",
    "#significa que há usuários acessaram mais de uma vez."
   ]
  },
  {
   "cell_type": "code",
   "execution_count": 10,
   "metadata": {
    "execution": {
     "iopub.execute_input": "2021-03-17T18:28:17.581674Z",
     "iopub.status.busy": "2021-03-17T18:28:17.580714Z",
     "iopub.status.idle": "2021-03-17T18:28:17.626074Z",
     "shell.execute_reply": "2021-03-17T18:28:17.626604Z"
    },
    "papermill": {
     "duration": 0.073692,
     "end_time": "2021-03-17T18:28:17.626774",
     "exception": false,
     "start_time": "2021-03-17T18:28:17.553082",
     "status": "completed"
    },
    "tags": []
   },
   "outputs": [
    {
     "data": {
      "text/plain": [
       "1899    773192\n",
       "2893    773192\n",
       "Name: user_id, dtype: int64"
      ]
     },
     "execution_count": 10,
     "metadata": {},
     "output_type": "execute_result"
    }
   ],
   "source": [
    "# Encontrando o valor duplicado\n",
    "dados_1[dados_1.duplicated(['user_id'], keep=False)]['user_id']"
   ]
  },
  {
   "cell_type": "code",
   "execution_count": 11,
   "metadata": {
    "execution": {
     "iopub.execute_input": "2021-03-17T18:28:17.681070Z",
     "iopub.status.busy": "2021-03-17T18:28:17.680095Z",
     "iopub.status.idle": "2021-03-17T18:28:17.728383Z",
     "shell.execute_reply": "2021-03-17T18:28:17.727735Z"
    },
    "papermill": {
     "duration": 0.076534,
     "end_time": "2021-03-17T18:28:17.728539",
     "exception": false,
     "start_time": "2021-03-17T18:28:17.652005",
     "status": "completed"
    },
    "tags": []
   },
   "outputs": [
    {
     "name": "stderr",
     "output_type": "stream",
     "text": [
      "/opt/conda/lib/python3.7/site-packages/ipykernel_launcher.py:2: UserWarning: Boolean Series key will be reindexed to match DataFrame index.\n",
      "  \n"
     ]
    },
    {
     "data": {
      "text/html": [
       "<div>\n",
       "<style scoped>\n",
       "    .dataframe tbody tr th:only-of-type {\n",
       "        vertical-align: middle;\n",
       "    }\n",
       "\n",
       "    .dataframe tbody tr th {\n",
       "        vertical-align: top;\n",
       "    }\n",
       "\n",
       "    .dataframe thead th {\n",
       "        text-align: right;\n",
       "    }\n",
       "</style>\n",
       "<table border=\"1\" class=\"dataframe\">\n",
       "  <thead>\n",
       "    <tr style=\"text-align: right;\">\n",
       "      <th></th>\n",
       "      <th>user_id</th>\n",
       "      <th>timestamp</th>\n",
       "      <th>group</th>\n",
       "      <th>landing_page</th>\n",
       "      <th>converted</th>\n",
       "    </tr>\n",
       "  </thead>\n",
       "  <tbody>\n",
       "    <tr>\n",
       "      <th>1899</th>\n",
       "      <td>773192</td>\n",
       "      <td>2017-01-09 05:37:58.781806</td>\n",
       "      <td>treatment</td>\n",
       "      <td>new_page</td>\n",
       "      <td>0</td>\n",
       "    </tr>\n",
       "    <tr>\n",
       "      <th>2893</th>\n",
       "      <td>773192</td>\n",
       "      <td>2017-01-14 02:55:59.590927</td>\n",
       "      <td>treatment</td>\n",
       "      <td>new_page</td>\n",
       "      <td>0</td>\n",
       "    </tr>\n",
       "  </tbody>\n",
       "</table>\n",
       "</div>"
      ],
      "text/plain": [
       "      user_id                   timestamp      group landing_page  converted\n",
       "1899   773192  2017-01-09 05:37:58.781806  treatment     new_page          0\n",
       "2893   773192  2017-01-14 02:55:59.590927  treatment     new_page          0"
      ]
     },
     "execution_count": 11,
     "metadata": {},
     "output_type": "execute_result"
    }
   ],
   "source": [
    "#buscando o usuário\n",
    "dados_1[dados.user_id == 773192]"
   ]
  },
  {
   "cell_type": "markdown",
   "metadata": {
    "papermill": {
     "duration": 0.026402,
     "end_time": "2021-03-17T18:28:17.781056",
     "exception": false,
     "start_time": "2021-03-17T18:28:17.754654",
     "status": "completed"
    },
    "tags": []
   },
   "source": [
    "O usuário do grupo de controle entrou duas vezes e não comprou em nenhuma delas. Para simplificar manteremos somente o primeiro registro.\n",
    "Note que nossa decisão seria diferente no caso do usuário tivesse comprado."
   ]
  },
  {
   "cell_type": "code",
   "execution_count": 12,
   "metadata": {
    "execution": {
     "iopub.execute_input": "2021-03-17T18:28:17.841465Z",
     "iopub.status.busy": "2021-03-17T18:28:17.840813Z",
     "iopub.status.idle": "2021-03-17T18:28:17.890256Z",
     "shell.execute_reply": "2021-03-17T18:28:17.890796Z"
    },
    "papermill": {
     "duration": 0.081393,
     "end_time": "2021-03-17T18:28:17.890988",
     "exception": false,
     "start_time": "2021-03-17T18:28:17.809595",
     "status": "completed"
    },
    "tags": []
   },
   "outputs": [],
   "source": [
    "dados_1 = dados.drop_duplicates(subset='user_id',keep='first')"
   ]
  },
  {
   "cell_type": "markdown",
   "metadata": {
    "papermill": {
     "duration": 0.025893,
     "end_time": "2021-03-17T18:28:17.943426",
     "exception": false,
     "start_time": "2021-03-17T18:28:17.917533",
     "status": "completed"
    },
    "tags": []
   },
   "source": [
    "# Explorando os dados - EDA"
   ]
  },
  {
   "cell_type": "code",
   "execution_count": 13,
   "metadata": {
    "execution": {
     "iopub.execute_input": "2021-03-17T18:28:18.008270Z",
     "iopub.status.busy": "2021-03-17T18:28:18.007580Z",
     "iopub.status.idle": "2021-03-17T18:28:18.075600Z",
     "shell.execute_reply": "2021-03-17T18:28:18.075020Z"
    },
    "papermill": {
     "duration": 0.105888,
     "end_time": "2021-03-17T18:28:18.075746",
     "exception": false,
     "start_time": "2021-03-17T18:28:17.969858",
     "status": "completed"
    },
    "tags": []
   },
   "outputs": [
    {
     "data": {
      "text/plain": [
       "group      landing_page  converted\n",
       "control    new_page      0               884\n",
       "                         1               122\n",
       "           old_page      0            126877\n",
       "                         1             17349\n",
       "treatment  new_page      0            127180\n",
       "                         1             17134\n",
       "           old_page      0               898\n",
       "                         1               140\n",
       "dtype: int64"
      ]
     },
     "execution_count": 13,
     "metadata": {},
     "output_type": "execute_result"
    }
   ],
   "source": [
    "grupos = dados_1.groupby(['group','landing_page','converted']).size()\n",
    "grupos"
   ]
  },
  {
   "cell_type": "code",
   "execution_count": 14,
   "metadata": {
    "execution": {
     "iopub.execute_input": "2021-03-17T18:28:18.135358Z",
     "iopub.status.busy": "2021-03-17T18:28:18.134052Z",
     "iopub.status.idle": "2021-03-17T18:28:18.390665Z",
     "shell.execute_reply": "2021-03-17T18:28:18.390079Z"
    },
    "papermill": {
     "duration": 0.288138,
     "end_time": "2021-03-17T18:28:18.390811",
     "exception": false,
     "start_time": "2021-03-17T18:28:18.102673",
     "status": "completed"
    },
    "tags": []
   },
   "outputs": [
    {
     "data": {
      "text/plain": [
       "<AxesSubplot:xlabel='group,landing_page,converted'>"
      ]
     },
     "execution_count": 14,
     "metadata": {},
     "output_type": "execute_result"
    },
    {
     "data": {
      "image/png": "[encoded data removed]",
      "text/plain": [
       "<Figure size 720x576 with 1 Axes>"
      ]
     },
     "metadata": {
      "needs_background": "light"
     },
     "output_type": "display_data"
    }
   ],
   "source": [
    "plt.figure(figsize=(10,8))\n",
    "grupos.plot.bar(color='grey')\n",
    "\n"
   ]
  },
  {
   "cell_type": "code",
   "execution_count": 15,
   "metadata": {
    "execution": {
     "iopub.execute_input": "2021-03-17T18:28:18.523020Z",
     "iopub.status.busy": "2021-03-17T18:28:18.521757Z",
     "iopub.status.idle": "2021-03-17T18:28:18.695585Z",
     "shell.execute_reply": "2021-03-17T18:28:18.696117Z"
    },
    "papermill": {
     "duration": 0.277172,
     "end_time": "2021-03-17T18:28:18.696292",
     "exception": false,
     "start_time": "2021-03-17T18:28:18.419120",
     "status": "completed"
    },
    "tags": []
   },
   "outputs": [
    {
     "data": {
      "text/plain": [
       "<AxesSubplot:ylabel='landing_page'>"
      ]
     },
     "execution_count": 15,
     "metadata": {},
     "output_type": "execute_result"
    },
    {
     "data": {
      "image/png": "[encoded data removed]",
      "text/plain": [
       "<Figure size 432x288 with 1 Axes>"
      ]
     },
     "metadata": {},
     "output_type": "display_data"
    }
   ],
   "source": [
    "#verificando se a proporção em cada grupo é similar, isto é, se a amostra está balanceada. \n",
    "#Amostras desbalanceadas podem levar a enviesamento dos dados, por isso é importante ter uma representividade semelhante.\n",
    "dados_1['landing_page'].value_counts().plot(kind='pie', colors=['grey','silver'])"
   ]
  },
  {
   "cell_type": "markdown",
   "metadata": {
    "papermill": {
     "duration": 0.028939,
     "end_time": "2021-03-17T18:28:18.755565",
     "exception": false,
     "start_time": "2021-03-17T18:28:18.726626",
     "status": "completed"
    },
    "tags": []
   },
   "source": [
    "# Taxa de Conversão"
   ]
  },
  {
   "cell_type": "markdown",
   "metadata": {
    "papermill": {
     "duration": 0.028877,
     "end_time": "2021-03-17T18:28:18.813808",
     "exception": false,
     "start_time": "2021-03-17T18:28:18.784931",
     "status": "completed"
    },
    "tags": []
   },
   "source": [
    "### Taxa de conversão geral"
   ]
  },
  {
   "cell_type": "code",
   "execution_count": 16,
   "metadata": {
    "execution": {
     "iopub.execute_input": "2021-03-17T18:28:18.878084Z",
     "iopub.status.busy": "2021-03-17T18:28:18.877370Z",
     "iopub.status.idle": "2021-03-17T18:28:18.889326Z",
     "shell.execute_reply": "2021-03-17T18:28:18.888778Z"
    },
    "papermill": {
     "duration": 0.046262,
     "end_time": "2021-03-17T18:28:18.889476",
     "exception": false,
     "start_time": "2021-03-17T18:28:18.843214",
     "status": "completed"
    },
    "tags": []
   },
   "outputs": [
    {
     "data": {
      "text/html": [
       "<div>\n",
       "<style scoped>\n",
       "    .dataframe tbody tr th:only-of-type {\n",
       "        vertical-align: middle;\n",
       "    }\n",
       "\n",
       "    .dataframe tbody tr th {\n",
       "        vertical-align: top;\n",
       "    }\n",
       "\n",
       "    .dataframe thead th {\n",
       "        text-align: right;\n",
       "    }\n",
       "</style>\n",
       "<table border=\"1\" class=\"dataframe\">\n",
       "  <thead>\n",
       "    <tr style=\"text-align: right;\">\n",
       "      <th></th>\n",
       "      <th>converted</th>\n",
       "    </tr>\n",
       "  </thead>\n",
       "  <tbody>\n",
       "    <tr>\n",
       "      <th>0</th>\n",
       "      <td>88.034081</td>\n",
       "    </tr>\n",
       "    <tr>\n",
       "      <th>1</th>\n",
       "      <td>11.965919</td>\n",
       "    </tr>\n",
       "  </tbody>\n",
       "</table>\n",
       "</div>"
      ],
      "text/plain": [
       "   converted\n",
       "0  88.034081\n",
       "1  11.965919"
      ]
     },
     "execution_count": 16,
     "metadata": {},
     "output_type": "execute_result"
    }
   ],
   "source": [
    "#taxa de conversão\n",
    "conversao = pd.DataFrame(dados.converted.value_counts()/dados.shape[0] *100)\n",
    "conversao"
   ]
  },
  {
   "cell_type": "code",
   "execution_count": 17,
   "metadata": {
    "execution": {
     "iopub.execute_input": "2021-03-17T18:28:18.974897Z",
     "iopub.status.busy": "2021-03-17T18:28:18.972876Z",
     "iopub.status.idle": "2021-03-17T18:28:19.104072Z",
     "shell.execute_reply": "2021-03-17T18:28:19.103414Z"
    },
    "papermill": {
     "duration": 0.184755,
     "end_time": "2021-03-17T18:28:19.104222",
     "exception": false,
     "start_time": "2021-03-17T18:28:18.919467",
     "status": "completed"
    },
    "tags": []
   },
   "outputs": [
    {
     "data": {
      "text/plain": [
       "Text(0.5, 1.0, 'Taxa de conversão')"
      ]
     },
     "execution_count": 17,
     "metadata": {},
     "output_type": "execute_result"
    },
    {
     "data": {
      "image/png": "[encoded data removed]",
      "text/plain": [
       "<Figure size 720x576 with 1 Axes>"
      ]
     },
     "metadata": {},
     "output_type": "display_data"
    }
   ],
   "source": [
    "plt.figure(figsize=(10,8))\n",
    "\n",
    "plt.rcParams['font.sans-serif'] = 'Arial'\n",
    "plt.rcParams['font.family'] = 'sans-serif'\n",
    "plt.rcParams['text.color'] = 'b'\n",
    "plt.rcParams['font.size']=20\n",
    "\n",
    "cores = [ 'silver','gray']\n",
    "\n",
    "percentages = list(conversao.converted)\n",
    "explode=(0.1,0)\n",
    "labels = ['Não comprou','Comprou']\n",
    "plt.pie(percentages, explode=explode, \n",
    "       labels=labels,\n",
    "       colors = cores,\n",
    "       autopct='%1.0f%%',\n",
    "       shadow=True, startangle=0,   \n",
    "       pctdistance=0.5,labeldistance=1.1)\n",
    "plt.title(\"Taxa de conversão\", fontsize=20, pad=20)\n"
   ]
  },
  {
   "cell_type": "markdown",
   "metadata": {
    "papermill": {
     "duration": 0.031796,
     "end_time": "2021-03-17T18:28:19.168026",
     "exception": false,
     "start_time": "2021-03-17T18:28:19.136230",
     "status": "completed"
    },
    "tags": []
   },
   "source": [
    "### Taxa de conversão dos grupos"
   ]
  },
  {
   "cell_type": "code",
   "execution_count": 18,
   "metadata": {
    "execution": {
     "iopub.execute_input": "2021-03-17T18:28:19.281921Z",
     "iopub.status.busy": "2021-03-17T18:28:19.280740Z",
     "iopub.status.idle": "2021-03-17T18:28:19.305004Z",
     "shell.execute_reply": "2021-03-17T18:28:19.304287Z"
    },
    "papermill": {
     "duration": 0.105763,
     "end_time": "2021-03-17T18:28:19.305154",
     "exception": false,
     "start_time": "2021-03-17T18:28:19.199391",
     "status": "completed"
    },
    "tags": []
   },
   "outputs": [
    {
     "data": {
      "text/html": [
       "<div>\n",
       "<style scoped>\n",
       "    .dataframe tbody tr th:only-of-type {\n",
       "        vertical-align: middle;\n",
       "    }\n",
       "\n",
       "    .dataframe tbody tr th {\n",
       "        vertical-align: top;\n",
       "    }\n",
       "\n",
       "    .dataframe thead th {\n",
       "        text-align: right;\n",
       "    }\n",
       "</style>\n",
       "<table border=\"1\" class=\"dataframe\">\n",
       "  <thead>\n",
       "    <tr style=\"text-align: right;\">\n",
       "      <th></th>\n",
       "      <th>converted</th>\n",
       "      <th>percentual</th>\n",
       "    </tr>\n",
       "  </thead>\n",
       "  <tbody>\n",
       "    <tr>\n",
       "      <th>0</th>\n",
       "      <td>127761</td>\n",
       "      <td>87.970282</td>\n",
       "    </tr>\n",
       "    <tr>\n",
       "      <th>1</th>\n",
       "      <td>17471</td>\n",
       "      <td>12.029718</td>\n",
       "    </tr>\n",
       "  </tbody>\n",
       "</table>\n",
       "</div>"
      ],
      "text/plain": [
       "   converted  percentual\n",
       "0     127761   87.970282\n",
       "1      17471   12.029718"
      ]
     },
     "execution_count": 18,
     "metadata": {},
     "output_type": "execute_result"
    }
   ],
   "source": [
    "conversao_control = pd.DataFrame(dados_1[dados_1.group == 'control']['converted'].value_counts())\n",
    "conversao_control['percentual'] = conversao_control.converted/ (conversao_control.converted.sum()) *100\n",
    "conversao_control"
   ]
  },
  {
   "cell_type": "code",
   "execution_count": 19,
   "metadata": {
    "execution": {
     "iopub.execute_input": "2021-03-17T18:28:19.419317Z",
     "iopub.status.busy": "2021-03-17T18:28:19.418338Z",
     "iopub.status.idle": "2021-03-17T18:28:19.443040Z",
     "shell.execute_reply": "2021-03-17T18:28:19.442404Z"
    },
    "papermill": {
     "duration": 0.105675,
     "end_time": "2021-03-17T18:28:19.443192",
     "exception": false,
     "start_time": "2021-03-17T18:28:19.337517",
     "status": "completed"
    },
    "tags": []
   },
   "outputs": [
    {
     "data": {
      "text/html": [
       "<div>\n",
       "<style scoped>\n",
       "    .dataframe tbody tr th:only-of-type {\n",
       "        vertical-align: middle;\n",
       "    }\n",
       "\n",
       "    .dataframe tbody tr th {\n",
       "        vertical-align: top;\n",
       "    }\n",
       "\n",
       "    .dataframe thead th {\n",
       "        text-align: right;\n",
       "    }\n",
       "</style>\n",
       "<table border=\"1\" class=\"dataframe\">\n",
       "  <thead>\n",
       "    <tr style=\"text-align: right;\">\n",
       "      <th></th>\n",
       "      <th>converted</th>\n",
       "      <th>percentual</th>\n",
       "    </tr>\n",
       "  </thead>\n",
       "  <tbody>\n",
       "    <tr>\n",
       "      <th>0</th>\n",
       "      <td>128078</td>\n",
       "      <td>88.115747</td>\n",
       "    </tr>\n",
       "    <tr>\n",
       "      <th>1</th>\n",
       "      <td>17274</td>\n",
       "      <td>11.884253</td>\n",
       "    </tr>\n",
       "  </tbody>\n",
       "</table>\n",
       "</div>"
      ],
      "text/plain": [
       "   converted  percentual\n",
       "0     128078   88.115747\n",
       "1      17274   11.884253"
      ]
     },
     "execution_count": 19,
     "metadata": {},
     "output_type": "execute_result"
    }
   ],
   "source": [
    "conversao_treat = pd.DataFrame(dados_1[dados_1.group == 'treatment']['converted'].value_counts())\n",
    "conversao_treat['percentual'] = conversao_treat.converted/ (conversao_treat.converted.sum()) *100\n",
    "conversao_treat"
   ]
  },
  {
   "cell_type": "code",
   "execution_count": 20,
   "metadata": {
    "execution": {
     "iopub.execute_input": "2021-03-17T18:28:19.558490Z",
     "iopub.status.busy": "2021-03-17T18:28:19.534943Z",
     "iopub.status.idle": "2021-03-17T18:28:19.868679Z",
     "shell.execute_reply": "2021-03-17T18:28:19.868113Z"
    },
    "papermill": {
     "duration": 0.392885,
     "end_time": "2021-03-17T18:28:19.868827",
     "exception": false,
     "start_time": "2021-03-17T18:28:19.475942",
     "status": "completed"
    },
    "tags": []
   },
   "outputs": [
    {
     "data": {
      "image/png": "[encoded data removed]",
      "text/plain": [
       "<Figure size 2160x576 with 3 Axes>"
      ]
     },
     "metadata": {
      "needs_background": "light"
     },
     "output_type": "display_data"
    },
    {
     "data": {
      "text/plain": [
       "<Figure size 720x576 with 0 Axes>"
      ]
     },
     "metadata": {},
     "output_type": "display_data"
    },
    {
     "data": {
      "text/plain": [
       "<Figure size 720x576 with 0 Axes>"
      ]
     },
     "metadata": {},
     "output_type": "display_data"
    },
    {
     "data": {
      "text/plain": [
       "<Figure size 720x576 with 0 Axes>"
      ]
     },
     "metadata": {},
     "output_type": "display_data"
    }
   ],
   "source": [
    "fig, (axis1, axis2, axis3) = plt.subplots(1,3, figsize=(30,8))\n",
    "\n",
    "plt.figure(figsize=(10,8))\n",
    "ax = sns.barplot(x=conversao_control.index, y=\"percentual\", data=conversao_control, ax=axis1, palette = 'Blues_r')\n",
    "ax.set_title(\"Conversão do Grupo de Controle\", fontsize=25,pad=20)\n",
    "ax.set_xlabel('Status', fontsize=15)\n",
    "ax.set_ylabel('%', fontsize=15)\n",
    "ax.set_xticklabels(labels=['Não Comprou', 'Comprou'])\n",
    "plt.tight_layout()\n",
    "\n",
    "plt.figure(figsize=(10,8))\n",
    "ax = sns.barplot(x=conversao_treat.index, y=\"percentual\", data=conversao_treat, ax=axis2, palette = 'Greens_r')\n",
    "ax.set_title(\"Conversão do Grupo de Experimento\", fontsize=25,pad=20)\n",
    "ax.set_xlabel('Status', fontsize=15)\n",
    "ax.set_ylabel('%', fontsize=15)\n",
    "ax.set_xticklabels(labels=['Não Comprou', 'Comprou'])\n",
    "plt.tight_layout()\n",
    "\n",
    "plt.figure(figsize=(10,8))\n",
    "ax = sns.barplot(x=conversao.index, y=\"converted\", data=conversao, ax=axis3, palette = 'Oranges')\n",
    "ax.set_title(\"Conversão Geral\", fontsize=25,pad=20)\n",
    "ax.set_xlabel('Status', fontsize=15)\n",
    "ax.set_ylabel('%', fontsize=15)\n",
    "ax.set_xticklabels(labels=['Não Comprou', 'Comprou'])\n",
    "plt.tight_layout()\n"
   ]
  },
  {
   "cell_type": "markdown",
   "metadata": {
    "papermill": {
     "duration": 0.034738,
     "end_time": "2021-03-17T18:28:19.939049",
     "exception": false,
     "start_time": "2021-03-17T18:28:19.904311",
     "status": "completed"
    },
    "tags": []
   },
   "source": [
    "Visualmente não dá para notar muitas diferenças nos grupos, parecem que se comportam do mesmo modo. E estatísticamente?\n",
    "Se você leu os artigos recomendados anteriormente, perceberás que esse tipo de situação é mais comum do que se imagina por isso o Teste A|B é tão importante."
   ]
  },
  {
   "cell_type": "markdown",
   "metadata": {
    "papermill": {
     "duration": 0.034663,
     "end_time": "2021-03-17T18:28:20.009557",
     "exception": false,
     "start_time": "2021-03-17T18:28:19.974894",
     "status": "completed"
    },
    "tags": []
   },
   "source": [
    "# Teste A|B com Chi-quadrado\n",
    "\n",
    "Chi-Quadrado, também conhecido como coeficiente de Pearson é um teste estatístico para comparar duas variáveis categóricas, independentes entre com pelo menos 5 observações. O teste verifica se as variáveis são homogêneas entre si.\n",
    "\n",
    "A interpretação é realizada por meio de comparação com o p-value que , por convenção,abaixo de 0,05 há evidências de diferenças entre os grupos e acima disso não há diferenças significativas.\n",
    "\n",
    "0. *H0* ou Hipótese nula - As variáveis possuem relação, p > 0,05.\n",
    "1. *H1* ou Hipótese Alternativa - As variáveis não possuem relação, p < 0,05.\n",
    "\n",
    "Abaixo deixo 1 artigo em português e 3 em inglês para melhor compreensão do assunto. Vale a pena a leitura!\n",
    "\n",
    "[Teste Chi Quadrado de Pearson: um guia completo](https://sosestatistica.com.br/teste-chi-quadrado-pearson/#:~:text=O%20teste%20Chi%20Quadrado%20de,%C3%972%20(ou%20maiores).)\n",
    "\n",
    "[Chi-Squared Test for Feature Selection with implementation in Python](https://towardsdatascience.com/chi-squared-test-for-feature-selection-with-implementation-in-python-65b4ae7696db)\n",
    "\n",
    "\n",
    "[The Chi-Squared Test Statistic is a Must For Every Data Scientist: A Case Study in Customer Churn](https://towardsdatascience.com/the-chi-squared-test-statistic-is-a-must-for-every-data-scientist-a-case-study-in-customer-churn-bcdb17bbafb7)\n",
    "\n",
    "[Ace the Interview: Chi-Squared Test](https://towardsdatascience.com/ace-the-interview-the-chi-squared-test-e6d37f681ea4)\n",
    "\n"
   ]
  },
  {
   "cell_type": "markdown",
   "metadata": {
    "papermill": {
     "duration": 0.034819,
     "end_time": "2021-03-17T18:28:20.080853",
     "exception": false,
     "start_time": "2021-03-17T18:28:20.046034",
     "status": "completed"
    },
    "tags": []
   },
   "source": [
    "## Rearranjando os dados em uma tabela 2x2 para aplicarmos o Chi-Quadrado."
   ]
  },
  {
   "cell_type": "code",
   "execution_count": 21,
   "metadata": {
    "execution": {
     "iopub.execute_input": "2021-03-17T18:28:20.168565Z",
     "iopub.status.busy": "2021-03-17T18:28:20.167669Z",
     "iopub.status.idle": "2021-03-17T18:28:20.173145Z",
     "shell.execute_reply": "2021-03-17T18:28:20.172442Z"
    },
    "papermill": {
     "duration": 0.057609,
     "end_time": "2021-03-17T18:28:20.173299",
     "exception": false,
     "start_time": "2021-03-17T18:28:20.115690",
     "status": "completed"
    },
    "tags": []
   },
   "outputs": [
    {
     "data": {
      "text/html": [
       "<div>\n",
       "<style scoped>\n",
       "    .dataframe tbody tr th:only-of-type {\n",
       "        vertical-align: middle;\n",
       "    }\n",
       "\n",
       "    .dataframe tbody tr th {\n",
       "        vertical-align: top;\n",
       "    }\n",
       "\n",
       "    .dataframe thead th {\n",
       "        text-align: right;\n",
       "    }\n",
       "</style>\n",
       "<table border=\"1\" class=\"dataframe\">\n",
       "  <thead>\n",
       "    <tr style=\"text-align: right;\">\n",
       "      <th></th>\n",
       "      <th>user_id</th>\n",
       "      <th>timestamp</th>\n",
       "      <th>group</th>\n",
       "      <th>landing_page</th>\n",
       "      <th>converted</th>\n",
       "    </tr>\n",
       "  </thead>\n",
       "  <tbody>\n",
       "    <tr>\n",
       "      <th>0</th>\n",
       "      <td>851104</td>\n",
       "      <td>2017-01-21 22:11:48.556739</td>\n",
       "      <td>control</td>\n",
       "      <td>old_page</td>\n",
       "      <td>0</td>\n",
       "    </tr>\n",
       "    <tr>\n",
       "      <th>1</th>\n",
       "      <td>804228</td>\n",
       "      <td>2017-01-12 08:01:45.159739</td>\n",
       "      <td>control</td>\n",
       "      <td>old_page</td>\n",
       "      <td>0</td>\n",
       "    </tr>\n",
       "    <tr>\n",
       "      <th>2</th>\n",
       "      <td>661590</td>\n",
       "      <td>2017-01-11 16:55:06.154213</td>\n",
       "      <td>treatment</td>\n",
       "      <td>new_page</td>\n",
       "      <td>0</td>\n",
       "    </tr>\n",
       "    <tr>\n",
       "      <th>3</th>\n",
       "      <td>853541</td>\n",
       "      <td>2017-01-08 18:28:03.143765</td>\n",
       "      <td>treatment</td>\n",
       "      <td>new_page</td>\n",
       "      <td>0</td>\n",
       "    </tr>\n",
       "    <tr>\n",
       "      <th>4</th>\n",
       "      <td>864975</td>\n",
       "      <td>2017-01-21 01:52:26.210827</td>\n",
       "      <td>control</td>\n",
       "      <td>old_page</td>\n",
       "      <td>1</td>\n",
       "    </tr>\n",
       "    <tr>\n",
       "      <th>...</th>\n",
       "      <td>...</td>\n",
       "      <td>...</td>\n",
       "      <td>...</td>\n",
       "      <td>...</td>\n",
       "      <td>...</td>\n",
       "    </tr>\n",
       "    <tr>\n",
       "      <th>294473</th>\n",
       "      <td>751197</td>\n",
       "      <td>2017-01-03 22:28:38.630509</td>\n",
       "      <td>control</td>\n",
       "      <td>old_page</td>\n",
       "      <td>0</td>\n",
       "    </tr>\n",
       "    <tr>\n",
       "      <th>294474</th>\n",
       "      <td>945152</td>\n",
       "      <td>2017-01-12 00:51:57.078372</td>\n",
       "      <td>control</td>\n",
       "      <td>old_page</td>\n",
       "      <td>0</td>\n",
       "    </tr>\n",
       "    <tr>\n",
       "      <th>294475</th>\n",
       "      <td>734608</td>\n",
       "      <td>2017-01-22 11:45:03.439544</td>\n",
       "      <td>control</td>\n",
       "      <td>old_page</td>\n",
       "      <td>0</td>\n",
       "    </tr>\n",
       "    <tr>\n",
       "      <th>294476</th>\n",
       "      <td>697314</td>\n",
       "      <td>2017-01-15 01:20:28.957438</td>\n",
       "      <td>control</td>\n",
       "      <td>old_page</td>\n",
       "      <td>0</td>\n",
       "    </tr>\n",
       "    <tr>\n",
       "      <th>294477</th>\n",
       "      <td>715931</td>\n",
       "      <td>2017-01-16 12:40:24.467417</td>\n",
       "      <td>treatment</td>\n",
       "      <td>new_page</td>\n",
       "      <td>0</td>\n",
       "    </tr>\n",
       "  </tbody>\n",
       "</table>\n",
       "<p>290584 rows × 5 columns</p>\n",
       "</div>"
      ],
      "text/plain": [
       "        user_id                   timestamp      group landing_page  converted\n",
       "0        851104  2017-01-21 22:11:48.556739    control     old_page          0\n",
       "1        804228  2017-01-12 08:01:45.159739    control     old_page          0\n",
       "2        661590  2017-01-11 16:55:06.154213  treatment     new_page          0\n",
       "3        853541  2017-01-08 18:28:03.143765  treatment     new_page          0\n",
       "4        864975  2017-01-21 01:52:26.210827    control     old_page          1\n",
       "...         ...                         ...        ...          ...        ...\n",
       "294473   751197  2017-01-03 22:28:38.630509    control     old_page          0\n",
       "294474   945152  2017-01-12 00:51:57.078372    control     old_page          0\n",
       "294475   734608  2017-01-22 11:45:03.439544    control     old_page          0\n",
       "294476   697314  2017-01-15 01:20:28.957438    control     old_page          0\n",
       "294477   715931  2017-01-16 12:40:24.467417  treatment     new_page          0\n",
       "\n",
       "[290584 rows x 5 columns]"
      ]
     },
     "execution_count": 21,
     "metadata": {},
     "output_type": "execute_result"
    }
   ],
   "source": [
    "dados_1"
   ]
  },
  {
   "cell_type": "code",
   "execution_count": 22,
   "metadata": {
    "execution": {
     "iopub.execute_input": "2021-03-17T18:28:20.250511Z",
     "iopub.status.busy": "2021-03-17T18:28:20.249804Z",
     "iopub.status.idle": "2021-03-17T18:28:20.353518Z",
     "shell.execute_reply": "2021-03-17T18:28:20.352553Z"
    },
    "papermill": {
     "duration": 0.144675,
     "end_time": "2021-03-17T18:28:20.353687",
     "exception": false,
     "start_time": "2021-03-17T18:28:20.209012",
     "status": "completed"
    },
    "tags": []
   },
   "outputs": [
    {
     "data": {
      "text/html": [
       "<div>\n",
       "<style scoped>\n",
       "    .dataframe tbody tr th:only-of-type {\n",
       "        vertical-align: middle;\n",
       "    }\n",
       "\n",
       "    .dataframe tbody tr th {\n",
       "        vertical-align: top;\n",
       "    }\n",
       "\n",
       "    .dataframe thead th {\n",
       "        text-align: right;\n",
       "    }\n",
       "</style>\n",
       "<table border=\"1\" class=\"dataframe\">\n",
       "  <thead>\n",
       "    <tr style=\"text-align: right;\">\n",
       "      <th>converted</th>\n",
       "      <th>0</th>\n",
       "      <th>1</th>\n",
       "    </tr>\n",
       "    <tr>\n",
       "      <th>group</th>\n",
       "      <th></th>\n",
       "      <th></th>\n",
       "    </tr>\n",
       "  </thead>\n",
       "  <tbody>\n",
       "    <tr>\n",
       "      <th>control</th>\n",
       "      <td>127761</td>\n",
       "      <td>17471</td>\n",
       "    </tr>\n",
       "    <tr>\n",
       "      <th>treatment</th>\n",
       "      <td>128078</td>\n",
       "      <td>17274</td>\n",
       "    </tr>\n",
       "  </tbody>\n",
       "</table>\n",
       "</div>"
      ],
      "text/plain": [
       "converted       0      1\n",
       "group                   \n",
       "control    127761  17471\n",
       "treatment  128078  17274"
      ]
     },
     "execution_count": 22,
     "metadata": {},
     "output_type": "execute_result"
    }
   ],
   "source": [
    "tabela_chi = pd.crosstab(dados_1.group,\n",
    "                           dados.converted, normalize=False)\n",
    "\n",
    "tabela_chi"
   ]
  },
  {
   "cell_type": "markdown",
   "metadata": {
    "papermill": {
     "duration": 0.036083,
     "end_time": "2021-03-17T18:28:20.426115",
     "exception": false,
     "start_time": "2021-03-17T18:28:20.390032",
     "status": "completed"
    },
    "tags": []
   },
   "source": [
    "## Teste Chi-Quadrado\n",
    "\n",
    "A função chi_contingence da biblioteca retorna 4 valores: chi_2, p_value, graus de liberdade e frequência esperada.\n",
    "\n",
    "[Biblioteca](https://docs.scipy.org/doc/scipy/reference/generated/scipy.stats.chi2_contingency.html)"
   ]
  },
  {
   "cell_type": "code",
   "execution_count": 23,
   "metadata": {
    "execution": {
     "iopub.execute_input": "2021-03-17T18:28:20.504105Z",
     "iopub.status.busy": "2021-03-17T18:28:20.503109Z",
     "iopub.status.idle": "2021-03-17T18:28:20.506820Z",
     "shell.execute_reply": "2021-03-17T18:28:20.506001Z"
    },
    "papermill": {
     "duration": 0.044724,
     "end_time": "2021-03-17T18:28:20.506999",
     "exception": false,
     "start_time": "2021-03-17T18:28:20.462275",
     "status": "completed"
    },
    "tags": []
   },
   "outputs": [],
   "source": [
    "from scipy.stats import chi2_contingency\n"
   ]
  },
  {
   "cell_type": "code",
   "execution_count": 24,
   "metadata": {
    "execution": {
     "iopub.execute_input": "2021-03-17T18:28:20.591299Z",
     "iopub.status.busy": "2021-03-17T18:28:20.590342Z",
     "iopub.status.idle": "2021-03-17T18:28:20.593728Z",
     "shell.execute_reply": "2021-03-17T18:28:20.594448Z"
    },
    "papermill": {
     "duration": 0.050557,
     "end_time": "2021-03-17T18:28:20.594685",
     "exception": false,
     "start_time": "2021-03-17T18:28:20.544128",
     "status": "completed"
    },
    "tags": []
   },
   "outputs": [
    {
     "name": "stdout",
     "output_type": "stream",
     "text": [
      "significância=0.05, p_value=0.23, chi_2=1.46\n",
      "Não há diferenças entre as páginas,as variáveis são homogêneas. (aceitamos H0)\n"
     ]
    }
   ],
   "source": [
    "chi_2, p_value, gol,frequencia = scipy.stats.chi2_contingency(tabela_chi,correction=False)\n",
    "\n",
    "# selecionando o nível de significãncia que por convenção é 0,05\n",
    "alfa = 0.05\n",
    "# Aceita ou rejeita H0?\n",
    "print('significância=%.2f, p_value=%.2f, chi_2=%.2f' % (alfa, p_value,chi_2))\n",
    "if p_value >= alfa:\n",
    "    print('Não há diferenças entre as páginas,as variáveis são homogêneas. (aceitamos H0)')\n",
    "else:\n",
    "    print('Há indícios de que a conversão nas páginas é diferente, as variáveis são heterogêneas\"  (rejeitamos H0 e aceitamos H1)')"
   ]
  }
 ],
 "metadata": {
  "kernelspec": {
   "display_name": "Python 3",
   "language": "python",
   "name": "python3"
  },
  "language_info": {
   "codemirror_mode": {
    "name": "ipython",
    "version": 3
   },
   "file_extension": ".py",
   "mimetype": "text/x-python",
   "name": "python",
   "nbconvert_exporter": "python",
   "pygments_lexer": "ipython3",
   "version": "3.7.9"
  },
  "papermill": {
   "default_parameters": {},
   "duration": 13.162983,
   "end_time": "2021-03-17T18:28:21.343285",
   "environment_variables": {},
   "exception": null,
   "input_path": "__notebook__.ipynb",
   "output_path": "__notebook__.ipynb",
   "parameters": {},
   "start_time": "2021-03-17T18:28:08.180302",
   "version": "2.2.2"
  }
 },
 "nbformat": 4,
 "nbformat_minor": 4
}
